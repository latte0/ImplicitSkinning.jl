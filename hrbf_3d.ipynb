{
 "cells": [
  {
   "cell_type": "code",
   "execution_count": 35,
   "metadata": {
    "collapsed": false
   },
   "outputs": [
    {
     "name": "stderr",
     "output_type": "stream",
     "text": [
      "INFO: Recompiling stale cache file /Users/rdeits/.julia/lib/v0.4/Iterators.ji for module Iterators.\n"
     ]
    }
   ],
   "source": [
    "using Iterators"
   ]
  },
  {
   "cell_type": "code",
   "execution_count": 39,
   "metadata": {
    "collapsed": true
   },
   "outputs": [],
   "source": [
    "using PyCall"
   ]
  },
  {
   "cell_type": "code",
   "execution_count": 40,
   "metadata": {
    "collapsed": false
   },
   "outputs": [],
   "source": [
    "unshift!(PyVector(pyimport(\"sys\")[\"path\"]), \n",
    "    \"/Users/rdeits/locomotion/drake-distro/build/lib/python2.7/dist-packages\");"
   ]
  },
  {
   "cell_type": "code",
   "execution_count": 41,
   "metadata": {
    "collapsed": false
   },
   "outputs": [],
   "source": [
    "@pyimport drake"
   ]
  },
  {
   "cell_type": "code",
   "execution_count": 14,
   "metadata": {
    "collapsed": true
   },
   "outputs": [],
   "source": [
    "@pyimport lcm as pylcm"
   ]
  },
  {
   "cell_type": "code",
   "execution_count": 16,
   "metadata": {
    "collapsed": false
   },
   "outputs": [
    {
     "data": {
      "text/plain": [
       "PyObject <LCM object at 0x31d141360>"
      ]
     },
     "execution_count": 16,
     "metadata": {},
     "output_type": "execute_result"
    }
   ],
   "source": [
    "lc = pylcm.LCM()"
   ]
  },
  {
   "cell_type": "code",
   "execution_count": 37,
   "metadata": {
    "collapsed": false
   },
   "outputs": [
    {
     "name": "stderr",
     "output_type": "stream",
     "text": [
      "WARNING: replacing module ImplicitSkinning\n"
     ]
    },
    {
     "data": {
      "text/plain": [
       "0-element Array{Any,1}"
      ]
     },
     "execution_count": 37,
     "metadata": {},
     "output_type": "execute_result"
    }
   ],
   "source": [
    "import ImplicitSkinning\n",
    "reload(\"ImplicitSkinning\")"
   ]
  },
  {
   "cell_type": "code",
   "execution_count": 97,
   "metadata": {
    "collapsed": false
   },
   "outputs": [
    {
     "name": "stdout",
     "output_type": "stream",
     "text": [
      "  0.449422 seconds (156.38 k allocations: 6.826 MB, 5.02% gc time)\n",
      "  0.087100 seconds (65.93 k allocations: 3.050 MB)\n",
      "  "
     ]
    }
   ],
   "source": [
    "points = [1 0 0; 0 1 0; -1 0 0; 0 -1 0; 0 0 1; 0 0 -1]\n",
    "normals = [1 -1 0; 0 1 0; -1 0 0; 0 -1 0; 1 0 1; 0 0 -1]\n",
    "dimension = 3\n",
    "\n",
    "phi = x -> x^3\n",
    "\n",
    "@time gen = ImplicitSkinning.HRBFGenerator(dimension, phi)\n",
    "\n",
    "@time f_result = ImplicitSkinning.get_field(gen, points, normals)\n",
    "\n",
    "X = linspace(-2, 2)\n",
    "Y = linspace(-2, 2)\n",
    "Z = linspace(-2, 2)\n",
    "@time C = [f_result(x,y,z) for (x,y,z) in product(X, Y, Z)];"
   ]
  },
  {
   "cell_type": "code",
   "execution_count": 98,
   "metadata": {
    "collapsed": false
   },
   "outputs": [
    {
     "name": "stdout",
     "output_type": "stream",
     "text": [
      "4.279052 seconds (22.91 M allocations: 940.405 MB, 8.74% gc time)\n"
     ]
    }
   ],
   "source": [
    "msg = drake.lcmt_viewer_geometry_data()\n",
    "msg[:type] = -1\n",
    "msg[:num_float_data] = length(C)\n",
    "msg[:float_data] = C;\n",
    "pycall(lc[:publish], PyAny, \"FIELD_DATA\", pycall(msg[:encode], PyObject))"
   ]
  },
  {
   "cell_type": "code",
   "execution_count": null,
   "metadata": {
    "collapsed": true
   },
   "outputs": [],
   "source": []
  }
 ],
 "metadata": {
  "kernelspec": {
   "display_name": "Julia 0.4.3",
   "language": "julia",
   "name": "julia-0.4"
  },
  "language_info": {
   "file_extension": ".jl",
   "mimetype": "application/julia",
   "name": "julia",
   "version": "0.4.3"
  }
 },
 "nbformat": 4,
 "nbformat_minor": 0
}
