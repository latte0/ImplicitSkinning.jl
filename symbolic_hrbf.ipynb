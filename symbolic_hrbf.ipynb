{
 "cells": [
  {
   "cell_type": "code",
   "execution_count": 1,
   "metadata": {
    "collapsed": false
   },
   "outputs": [],
   "source": [
    "using SymPy"
   ]
  },
  {
   "cell_type": "code",
   "execution_count": 2,
   "metadata": {
    "collapsed": false
   },
   "outputs": [
    {
     "data": {
      "text/plain": [
       "grad (generic function with 1 method)"
      ]
     },
     "execution_count": 2,
     "metadata": {},
     "output_type": "execute_result"
    }
   ],
   "source": [
    "function grad(f, x)\n",
    "    [diff(f, x[i]) for i in 1:length(x)]\n",
    "end"
   ]
  },
  {
   "cell_type": "code",
   "execution_count": 3,
   "metadata": {
    "collapsed": false
   },
   "outputs": [
    {
     "data": {
      "text/plain": [
       "define_field (generic function with 1 method)"
      ]
     },
     "execution_count": 3,
     "metadata": {},
     "output_type": "execute_result"
    }
   ],
   "source": [
    "function define_field(x, phi, vs, lambdas, betas)\n",
    "    num_points = length(lambdas)\n",
    "    @assert length(vs) == length(lambdas)\n",
    "    @assert length(betas) == length(lambdas)\n",
    "    @assert num_points >= 1\n",
    "    \n",
    "    d = 0 * lambdas[1]\n",
    "    for i = 1:num_points\n",
    "        phi_expr = phi(norm(x - vs[i]))\n",
    "        d += lambdas[i] * phi_expr + dot(betas[i], grad(phi_expr, x))[1]\n",
    "    end\n",
    "    d\n",
    "end"
   ]
  },
  {
   "cell_type": "code",
   "execution_count": 4,
   "metadata": {
    "collapsed": false
   },
   "outputs": [
    {
     "data": {
      "text/plain": [
       "4-element Array{Any,1}:\n",
       " [1,0] \n",
       " [0,1] \n",
       " [-1,0]\n",
       " [0,-1]"
      ]
     },
     "execution_count": 4,
     "metadata": {},
     "output_type": "execute_result"
    }
   ],
   "source": [
    "points = Any[[1,0], [0,1], [-1, 0], [0, -1]]\n",
    "normals = Any[[1,0], [0,1], [-1, 0], [0, -1]]"
   ]
  },
  {
   "cell_type": "code",
   "execution_count": 89,
   "metadata": {
    "collapsed": false
   },
   "outputs": [
    {
     "name": "stdout",
     "output_type": "stream",
     "text": [
      "g_at_points = Any[beta1_1*(x1 - 1)*(3*x1 - 3)/sqrt(x2^2 + (-x1 + 1)^2) + 3*beta1_1*sqrt(x2^2 + (-x1 + 1)^2) + 3*beta1_2*x2*(x1 - 1)/sqrt(x2^2 + (-x1 + 1)^2) + 3*beta2_1*x1^2/sqrt(x1^2 + (-x2 + 1)^2) + 3*beta2_1*sqrt(x1^2 + (-x2 + 1)^2) + beta2_2*x1*(3*x2 - 3)/sqrt(x1^2 + (-x2 + 1)^2) + beta3_1*(x1 + 1)*(3*x1 + 3)/sqrt(x2^2 + (-x1 - 1)^2) + 3*beta3_1*sqrt(x2^2 + (-x1 - 1)^2) + 3*beta3_2*x2*(x1 + 1)/sqrt(x2^2 + (-x1 - 1)^2) + 3*beta4_1*x1^2/sqrt(x1^2 + (-x2 - 1)^2) + 3*beta4_1*sqrt(x1^2 + (-x2 - 1)^2) + beta4_2*x1*(3*x2 + 3)/sqrt(x1^2 + (-x2 - 1)^2) + lambda1*(3*x1 - 3)*sqrt(x2^2 + (-x1 + 1)^2) + 3*lambda2*x1*sqrt(x1^2 + (-x2 + 1)^2) + lambda3*(3*x1 + 3)*sqrt(x2^2 + (-x1 - 1)^2) + 3*lambda4*x1*sqrt(x1^2 + (-x2 - 1)^2),beta1_1*x2*(3*x1 - 3)/sqrt(x2^2 + (-x1 + 1)^2) + 3*beta1_2*x2^2/sqrt(x2^2 + (-x1 + 1)^2) + 3*beta1_2*sqrt(x2^2 + (-x1 + 1)^2) + 3*beta2_1*x1*(x2 - 1)/sqrt(x1^2 + (-x2 + 1)^2) + 3*beta2_2*sqrt(x1^2 + (-x2 + 1)^2) + beta2_2*(x2 - 1)*(3*x2 - 3)/sqrt(x1^2 + (-x2 + 1)^2) + beta3_1*x2*(3*x1 + 3)/sqrt(x2^2 + (-x1 - 1)^2) + 3*beta3_2*x2^2/sqrt(x2^2 + (-x1 - 1)^2) + 3*beta3_2*sqrt(x2^2 + (-x1 - 1)^2) + 3*beta4_1*x1*(x2 + 1)/sqrt(x1^2 + (-x2 - 1)^2) + 3*beta4_2*sqrt(x1^2 + (-x2 - 1)^2) + beta4_2*(x2 + 1)*(3*x2 + 3)/sqrt(x1^2 + (-x2 - 1)^2) + 3*lambda1*x2*sqrt(x2^2 + (-x1 + 1)^2) + lambda2*sqrt(x1^2 + (-x2 + 1)^2)*(3*x2 - 3) + 3*lambda3*x2*sqrt(x2^2 + (-x1 - 1)^2) + lambda4*sqrt(x1^2 + (-x2 - 1)^2)*(3*x2 + 3)]"
     ]
    },
    {
     "data": {
      "text/plain": [
       "##9797 (generic function with 1 method)"
      ]
     },
     "execution_count": 89,
     "metadata": {},
     "output_type": "execute_result"
    },
    {
     "name": "stdout",
     "output_type": "stream",
     "text": [
      "\n"
     ]
    }
   ],
   "source": [
    "dimension = 2\n",
    "num_points = length(points)\n",
    "lambdas = [symbols(\"lambda$(i)\", real=true) for i in 1:num_points]\n",
    "x = Sym[symbols(\"x$(i)\", real=true) for i in 1:dimension]\n",
    "vs = [Sym[symbols(\"v$(j)_$(i)\", real=true) for i in 1:dimension] for j in 1:num_points]\n",
    "betas = [Sym[symbols(\"beta$(j)_$(i)\", real=true) for i in 1:dimension] for j in 1:num_points]\n",
    "phi = x -> x^3\n",
    "d = define_field(x, phi, vs, lambdas, betas)\n",
    "# g = grad(d, x)\n",
    "# exs = Sym[]\n",
    "# for i = 1:num_points\n",
    "#     push!(exs, d([x[j] => points[i][j] for j = 1:dimension]...))\n",
    "#     for j = 1:dimension\n",
    "#         push!(exs, g[1]([x[j] => points[i][j]]...) - normals[i][j])\n",
    "#     end\n",
    "# end\n",
    "# solve(exs)\n",
    "\n",
    "# Define A and b such that A * [lambdas; betas[:]] = b\n",
    "# A has 1 row for each point and dim rows for each normal\n",
    "d_at_points = d([vs[i][j] => points[i][j] for i = 1:length(points), j = 1:dimension]...)\n",
    "A = zeros(0, num_points * (dimension + 1))\n",
    "b = zeros(0, 1)\n",
    "for i = 1:num_points\n",
    "    d_at_v_i = d_at_points([x[k] => points[i][k] for k = 1:dimension]...)\n",
    "    row = zeros(num_points * (dimension + 1))\n",
    "    row_index = 1\n",
    "    for j = 1:num_points\n",
    "        row[row_index] = diff(d_at_v_i, lambdas[j])\n",
    "        row_index += 1\n",
    "    end\n",
    "    for j = 1:num_points\n",
    "        for k = 1:dimension\n",
    "            row[row_index] = diff(d_at_v_i, betas[j][k])\n",
    "            row_index += 1\n",
    "        end\n",
    "    end\n",
    "    A = [A; row']\n",
    "    b = [b; 0]\n",
    "end\n",
    "\n",
    "g_at_points = grad(d_at_points, x)\n",
    "@show g_at_points\n",
    "for i = 1:num_points\n",
    "    for k = 1:dimension\n",
    "#         g_at_v_i_k = g_at_points[k]([x[l] => points[i][l] for l = 1:dimension]...)\n",
    "#         @show g_at_v_i_k\n",
    "        row = zeros(num_points * (dimension + 1))\n",
    "        row_index = 1\n",
    "        for j = 1:num_points\n",
    "            row[row_index] = diff(g_at_points[k], lambdas[j])([x[l] => points[i][l] for l = 1:dimension]...)\n",
    "            row_index += 1\n",
    "        end\n",
    "        for j = 1:num_points\n",
    "            for l = 1:dimension\n",
    "                row[row_index] = diff(g_at_points[k], betas[j][l])([x[l] => points[i][l] for l = 1:dimension]...)\n",
    "                if isnan(row[row_index])\n",
    "                    row[row_index] = 0.0\n",
    "                end\n",
    "                row_index += 1\n",
    "            end\n",
    "        end\n",
    "        A = [A; row']\n",
    "        b = [b; normals[i][k]]\n",
    "    end\n",
    "end\n",
    "\n",
    "y = A \\ b\n",
    "lambda_values = y[1:num_points]\n",
    "d_result = d_at_points\n",
    "beta_values = reshape(y[num_points+1:end], dimension, num_points)'\n",
    "for i = 1:num_points\n",
    "    d_result = d_result(lambdas[i] => lambda_values[i])\n",
    "    for j = 1:dimension\n",
    "        d_result = d_result(betas[i][j] => beta_values[i,j])\n",
    "    end\n",
    "end\n",
    "d_result = lambdify(d_result, x)"
   ]
  },
  {
   "cell_type": "code",
   "execution_count": 90,
   "metadata": {
    "collapsed": false
   },
   "outputs": [
    {
     "name": "stderr",
     "output_type": "stream",
     "text": [
      "INFO: Recompiling stale cache file /home/rdeits/.julia/lib/v0.4/PyPlot.ji for module PyPlot.\n",
      "INFO: Recompiling stale cache file /home/rdeits/.julia/lib/v0.4/LaTeXStrings.ji for module LaTeXStrings.\n",
      "INFO: Loading additional PyPlot commands for graphing for SymPy objects:\n",
      "quiver, contour3D, and plot_implicit.\n",
      "See ?sympy_plotting for some more details\n"
     ]
    }
   ],
   "source": [
    "using PyPlot"
   ]
  },
  {
   "cell_type": "code",
   "execution_count": 94,
   "metadata": {
    "collapsed": false
   },
   "outputs": [
    {
     "data": {
      "image/png": "[encoded data removed]",
      "text/plain": [
       "PyPlot.Figure(PyObject <matplotlib.figure.Figure object at 0x7fe1919c99d0>)"
      ]
     },
     "metadata": {},
     "output_type": "display_data"
    },
    {
     "data": {
      "text/plain": [
       "(-2.0,2.0,-2.0,2.0)"
      ]
     },
     "execution_count": 94,
     "metadata": {},
     "output_type": "execute_result"
    }
   ],
   "source": [
    "X = linspace(-2, 2)\n",
    "Y = linspace(-2, 2)\n",
    "Z = zeros(length(X), length(Y))\n",
    "for i = 1:length(X)\n",
    "    for j = 1:length(Y)\n",
    "        Z[i,j] = d_result(X[i], Y[j])\n",
    "    end\n",
    "end\n",
    "PyPlot.contour(X, Y, Z, [-0.1, 0.0, 0.1])\n",
    "axis(\"equal\")"
   ]
  },
  {
   "cell_type": "code",
   "execution_count": null,
   "metadata": {
    "collapsed": true
   },
   "outputs": [],
   "source": []
  }
 ],
 "metadata": {
  "kernelspec": {
   "display_name": "Julia 0.4.2",
   "language": "julia",
   "name": "julia-0.4"
  },
  "language_info": {
   "file_extension": ".jl",
   "mimetype": "application/julia",
   "name": "julia",
   "version": "0.4.2"
  }
 },
 "nbformat": 4,
 "nbformat_minor": 0
}
